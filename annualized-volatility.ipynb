{
 "cells": [
  {
   "cell_type": "markdown",
   "metadata": {},
   "source": [
    "# Annualized Volatility\n",
    "\n",
    "A python demonstration of annualization for daily volatility to capture the variability of returns from the mean return. Below is the calculation: <br /><br />\n",
    "\n",
    "$$\\sigma * \\sqrt{252}$$\n",
    "\n",
    "where $\\sigma$ is the standard deviation of daily returns. \n",
    "\n",
    "<strong>Note</strong>: There are approximately 252 trading days in a year.\n"
   ]
  },
  {
   "cell_type": "code",
   "execution_count": 1,
   "metadata": {},
   "outputs": [
    {
     "name": "stdout",
     "output_type": "stream",
     "text": [
      "[*********************100%***********************]  1 of 1 completed\n",
      "[*********************100%***********************]  1 of 1 completed\n",
      "[*********************100%***********************]  1 of 1 completed\n",
      "Annualized volatility by day for AMZN is 34.179288490164616%.\n",
      "Annualized volatility by day for AAPL is 21.058948440101805%.\n",
      "Annualized volatility by day for GOOG is 33.30241675305952%.\n"
     ]
    }
   ],
   "source": [
    "\n",
    "\n",
    "# --------------------------------------------------------\n",
    "# Author: Daniel Xu\n",
    "# Date: 07/27/2023\n",
    "# Description: A program that implements annualized volatility calculations\n",
    "#   for tickers AMZN, GOOG, AAPL (for daily volatility)\n",
    "# Annualized Volatility:\n",
    "#   - SD * sqrt(252), where SD is the standard deviation of the percent\n",
    "#       change series of the Adjusted Close\n",
    "# --------------------------------------------------------\n",
    "\n",
    "# Import libraries\n",
    "import yfinance as yf\n",
    "import numpy as np\n",
    "\n",
    "# Download historical data for various stocks\n",
    "tickers = ['AMZN', 'AAPL', 'GOOG']\n",
    "stock_data = {}\n",
    "\n",
    "def annualized_daily_volatility(df):\n",
    "    temp = df.copy()\n",
    "    temp['Returns'] = df['Adj Close'].pct_change()\n",
    "    vty = temp['Returns'].std() * np.sqrt(252)\n",
    "    return vty\n",
    "\n",
    "for t in tickers:\n",
    "    data = yf.download(t, period='7mo', interval='1d') # 1 day candlestick\n",
    "    data.dropna(how='any', inplace=True)\n",
    "    stock_data[t] = data\n",
    "    \n",
    "for s in stock_data:\n",
    "    print('Annualized volatility by day for {} is {}%.'.format(s, annualized_daily_volatility(stock_data[s]) * 100))"
   ]
  }
 ],
 "metadata": {
  "kernelspec": {
   "display_name": "Python 3",
   "language": "python",
   "name": "python3"
  },
  "language_info": {
   "codemirror_mode": {
    "name": "ipython",
    "version": 3
   },
   "file_extension": ".py",
   "mimetype": "text/x-python",
   "name": "python",
   "nbconvert_exporter": "python",
   "pygments_lexer": "ipython3",
   "version": "3.11.4"
  },
  "orig_nbformat": 4
 },
 "nbformat": 4,
 "nbformat_minor": 2
}
