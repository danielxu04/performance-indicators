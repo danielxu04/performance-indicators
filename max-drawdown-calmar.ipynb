{
 "cells": [
  {
   "cell_type": "markdown",
   "metadata": {},
   "source": [
    "# Maximum Drawdown & Calmar Ratio\n",
    "\n",
    "A python demonstration of Maximum Drawdown and Calmar Ratio, used to indicate large declines experienced by an asset's price and measure risk-adjusted returns. Below is the calculation of the Calmar Ratio:\n",
    "\n",
    "$$ Calmar \\space Ratio = \\frac{Compounded \\space Annual \\space Return}{Maximum \\space Drawdown}$$\n",
    "\n",
    "Code:"
   ]
  },
  {
   "cell_type": "code",
   "execution_count": 1,
   "metadata": {},
   "outputs": [
    {
     "name": "stdout",
     "output_type": "stream",
     "text": [
      "[*********************100%***********************]  1 of 1 completed\n",
      "[*********************100%***********************]  1 of 1 completed\n",
      "[*********************100%***********************]  1 of 1 completed\n",
      "Max Drawdown of AMZN is 0.19643963852442053.\n",
      "Calmar Ratio of AMZN is 5.623682519768015.\n",
      "\n",
      "Max Drawdown of AAPL is 0.06450785321464067.\n",
      "Calmar Ratio of AAPL is 18.39447006117843.\n",
      "\n",
      "Max Drawdown of GOOG is 0.17876841941248944.\n",
      "Calmar Ratio of GOOG is 5.337491550850139.\n",
      "\n"
     ]
    }
   ],
   "source": [
    "# --------------------------------------------------------\n",
    "# Author: Daniel Xu\n",
    "# Date: 08/01/2023\n",
    "# Description: A program that implements Maximum Drawdown and Calmar Ratio\n",
    "#   for tickers AMZN, GOOG, AAPL\n",
    "# --------------------------------------------------------\n",
    "\n",
    "# Import libraries\n",
    "import yfinance as yf\n",
    "\n",
    "# MAX_DRAWDOWN - returns the maximum drawdown of a 7 month period of our analyzed stocks\n",
    "def max_drawdown(df):\n",
    "    temp = df.copy()\n",
    "    temp['Return'] = temp['Adj Close'].pct_change()\n",
    "    temp['Cumulative Return'] = (1 + temp['Return']).cumprod()\n",
    "    temp['Cumulative Rolling Max'] = temp['Cumulative Return'].cummax()\n",
    "    temp['Drawdown'] = temp['Cumulative Rolling Max'] - temp['Cumulative Return']\n",
    "    md = (temp['Drawdown'] / temp['Cumulative Rolling Max']).max()\n",
    "    return md\n",
    "\n",
    "# CAGR - takes in a DataFrame and computes the Compounded Average Growth Rate\n",
    "def cagr(df):\n",
    "    temp = df.copy()\n",
    "    temp['Return'] = temp['Adj Close'].pct_change()\n",
    "    temp['Cumulative Returns'] = (1 + temp['Return']).cumprod()\n",
    "    # decimal expression of years, based on number of trading days\n",
    "    n = len(temp)/252\n",
    "    CAGR = (temp['Cumulative Returns'][-1])**(1/n) - 1\n",
    "    return CAGR\n",
    "\n",
    "# CALMAR - returns the Calmar Ratio for a 7 month period, 1 day candlestick period\n",
    "#   of analyzed stocks\n",
    "def calmar(df):\n",
    "    temp = df.copy()\n",
    "    calmar_ratio = cagr(temp) / max_drawdown(temp)\n",
    "    return calmar_ratio\n",
    "\n",
    "# Download historical data for various stocks\n",
    "tickers = ['AMZN', 'AAPL', 'GOOG']\n",
    "stock_data = {}\n",
    "\n",
    "for t in tickers:\n",
    "    data = yf.download(t, period='7mo', interval='1d') # 1 day candlestick\n",
    "    data.dropna(how='any', inplace=True)\n",
    "    stock_data[t] = data\n",
    "    \n",
    "for s in stock_data:\n",
    "    print('Max Drawdown of {} is {}.'.format(s, max_drawdown(stock_data[s])))\n",
    "    print('Calmar Ratio of {} is {}.\\n'.format(s, calmar(stock_data[s])))\n",
    "    "
   ]
  }
 ],
 "metadata": {
  "kernelspec": {
   "display_name": "Python 3",
   "language": "python",
   "name": "python3"
  },
  "language_info": {
   "codemirror_mode": {
    "name": "ipython",
    "version": 3
   },
   "file_extension": ".py",
   "mimetype": "text/x-python",
   "name": "python",
   "nbconvert_exporter": "python",
   "pygments_lexer": "ipython3",
   "version": "3.11.4"
  },
  "orig_nbformat": 4
 },
 "nbformat": 4,
 "nbformat_minor": 2
}
