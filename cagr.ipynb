{
 "cells": [
  {
   "cell_type": "markdown",
   "metadata": {},
   "source": [
    "# CAGR - Compounded Annual Growth Rate\n",
    "\n",
    "A performance indicator that measures annual ROR realized by AMZN, AAPL, and GOOG (July 2022 - July 2023) to reach its current market value from initial value. Here is the CAGR algorithm utilized in this Python script:\n",
    "\n",
    "$$CAGR = \\left[ \\frac{v_f}{v_i} \\right]^{\\frac{1}{t}} - 1$$"
   ]
  },
  {
   "cell_type": "code",
   "execution_count": 1,
   "metadata": {},
   "outputs": [
    {
     "name": "stdout",
     "output_type": "stream",
     "text": [
      "[*********************100%***********************]  1 of 1 completed\n",
      "[*********************100%***********************]  1 of 1 completed\n",
      "[*********************100%***********************]  1 of 1 completed\n",
      "AMZN CAGR calculation: 1.156823093727565\n",
      "AAPL CAGR calculation: 0.9293997451033555\n",
      "GOOG CAGR calculation: 0.7196541916374399\n"
     ]
    }
   ],
   "source": [
    "# --------------------------------------------------------\n",
    "# Author: Daniel Xu\n",
    "# Date: 07/22/2023\n",
    "# Description: A program that implements Compounded Average Growth Rate for AMZN, AAPL, and GOOG, displaying output : Jupyter Notebook\n",
    "# --------------------------------------------------------\n",
    "\n",
    "# Import libraries\n",
    "import yfinance as yf\n",
    "\n",
    "# CAGR - takes in a DataFrame and computes the Compounded Average Growth Rate\n",
    "def cagr(df):\n",
    "    temp = df.copy()\n",
    "    temp['Return'] = temp['Adj Close'].pct_change()\n",
    "    temp['Cumulative Returns'] = (1 + temp['Return']).cumprod()\n",
    "    # decimal expression of years, based on number of trading days\n",
    "    n = len(temp)/252\n",
    "    CAGR = (temp['Cumulative Returns'][-1])**(1/n) - 1\n",
    "    \n",
    "    return CAGR\n",
    "\n",
    "# Download historical data for various stocks\n",
    "tickers = ['AMZN', 'AAPL', 'GOOG']\n",
    "stock_data = {}\n",
    "\n",
    "for t in tickers:\n",
    "    data = yf.download(t, period='7mo', interval='1d') # 1 day candlestick\n",
    "    data.dropna(how='any', inplace=True)\n",
    "    stock_data[t] = data\n",
    "    \n",
    "for s in stock_data:\n",
    "    print('{} CAGR calculation: {}'.format(s, cagr(stock_data[s])))"
   ]
  }
 ],
 "metadata": {
  "kernelspec": {
   "display_name": "Python 3",
   "language": "python",
   "name": "python3"
  },
  "language_info": {
   "codemirror_mode": {
    "name": "ipython",
    "version": 3
   },
   "file_extension": ".py",
   "mimetype": "text/x-python",
   "name": "python",
   "nbconvert_exporter": "python",
   "pygments_lexer": "ipython3",
   "version": "3.11.4"
  },
  "orig_nbformat": 4
 },
 "nbformat": 4,
 "nbformat_minor": 2
}
